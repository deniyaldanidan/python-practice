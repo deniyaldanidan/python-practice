{
 "cells": [
  {
   "cell_type": "markdown",
   "metadata": {},
   "source": [
    "## Python MongoDB Connection using Pymongo"
   ]
  },
  {
   "cell_type": "code",
   "execution_count": 1,
   "metadata": {},
   "outputs": [
    {
     "name": "stdout",
     "output_type": "stream",
     "text": [
      "^C\n"
     ]
    }
   ],
   "source": [
    "!pip install pymongo"
   ]
  },
  {
   "cell_type": "code",
   "execution_count": 2,
   "metadata": {},
   "outputs": [],
   "source": [
    "import pymongo"
   ]
  },
  {
   "cell_type": "code",
   "execution_count": 3,
   "metadata": {},
   "outputs": [],
   "source": [
    "sample_client=pymongo.MongoClient(\"mongodb://127.0.0.1:27017/\")"
   ]
  },
  {
   "cell_type": "code",
   "execution_count": 4,
   "metadata": {},
   "outputs": [],
   "source": [
    "sdb=sample_client[\"sample_db\"]"
   ]
  },
  {
   "cell_type": "code",
   "execution_count": 5,
   "metadata": {},
   "outputs": [],
   "source": [
    "scol=sdb['students']"
   ]
  },
  {
   "cell_type": "code",
   "execution_count": 6,
   "metadata": {},
   "outputs": [
    {
     "name": "stdout",
     "output_type": "stream",
     "text": [
      "5d8a5b3f9fa1d0e3a587b43b\n"
     ]
    }
   ],
   "source": [
    "sdoc={'name':'abc','age':23,}\n",
    "x = scol.insert_one(sdoc)\n",
    "print(x.inserted_id)"
   ]
  },
  {
   "cell_type": "markdown",
   "metadata": {},
   "source": [
    "### Bulk Inserts\n",
    "\n"
   ]
  },
  {
   "cell_type": "code",
   "execution_count": 12,
   "metadata": {},
   "outputs": [
    {
     "name": "stdout",
     "output_type": "stream",
     "text": [
      "[ObjectId('5d8a63e29fa1d0e3a587b440'), ObjectId('5d8a63e29fa1d0e3a587b441'), ObjectId('5d8a63e29fa1d0e3a587b442'), ObjectId('5d8a63e29fa1d0e3a587b443')]\n"
     ]
    }
   ],
   "source": [
    "sdoc=[{'name':'abc','age':22,'mob':21234},\n",
    "      {'name':'dec','age':25,'mob':2345},\n",
    "      {'name':'abc','age':27,'mob':21244},\n",
    "      {'name':'dec','age':23,'mob':2245}]\n",
    "x = scol.insert_many(sdoc)\n",
    "print(x.inserted_ids)"
   ]
  },
  {
   "cell_type": "markdown",
   "metadata": {},
   "source": [
    "### Getting a Single Document with find_one()"
   ]
  },
  {
   "cell_type": "code",
   "execution_count": 13,
   "metadata": {},
   "outputs": [
    {
     "name": "stdout",
     "output_type": "stream",
     "text": [
      "{'_id': ObjectId('5d8a5b3f9fa1d0e3a587b43b'), 'name': 'abc', 'age': 23}\n"
     ]
    }
   ],
   "source": [
    "x = scol.find_one ({'name':'abc'})\n",
    "print(x)"
   ]
  },
  {
   "cell_type": "markdown",
   "metadata": {},
   "source": [
    "### Querying for more than one Document"
   ]
  },
  {
   "cell_type": "code",
   "execution_count": 14,
   "metadata": {},
   "outputs": [
    {
     "name": "stdout",
     "output_type": "stream",
     "text": [
      "{'_id': ObjectId('5d8a5b3f9fa1d0e3a587b43b'), 'name': 'abc', 'age': 23}\n",
      "{'_id': ObjectId('5d8a5b419fa1d0e3a587b43c'), 'name': 'abc', 'age': 22, 'mob': 21234}\n",
      "{'_id': ObjectId('5d8a5b419fa1d0e3a587b43e'), 'name': 'abc', 'age': 27, 'mob': 21244}\n",
      "{'_id': ObjectId('5d8a63e29fa1d0e3a587b440'), 'name': 'abc', 'age': 22, 'mob': 21234}\n",
      "{'_id': ObjectId('5d8a63e29fa1d0e3a587b442'), 'name': 'abc', 'age': 27, 'mob': 21244}\n"
     ]
    }
   ],
   "source": [
    "x = scol.find ({'name':'abc'})\n",
    "j=[]\n",
    "for i in x:\n",
    "    print(i)\n",
    "    j.append(i)\n"
   ]
  },
  {
   "cell_type": "markdown",
   "metadata": {},
   "source": [
    "### Create DataFrame"
   ]
  },
  {
   "cell_type": "code",
   "execution_count": 15,
   "metadata": {},
   "outputs": [],
   "source": [
    "import pandas as pd"
   ]
  },
  {
   "cell_type": "code",
   "execution_count": 16,
   "metadata": {},
   "outputs": [
    {
     "data": {
      "text/html": [
       "<div>\n",
       "<style scoped>\n",
       "    .dataframe tbody tr th:only-of-type {\n",
       "        vertical-align: middle;\n",
       "    }\n",
       "\n",
       "    .dataframe tbody tr th {\n",
       "        vertical-align: top;\n",
       "    }\n",
       "\n",
       "    .dataframe thead th {\n",
       "        text-align: right;\n",
       "    }\n",
       "</style>\n",
       "<table border=\"1\" class=\"dataframe\">\n",
       "  <thead>\n",
       "    <tr style=\"text-align: right;\">\n",
       "      <th></th>\n",
       "      <th>_id</th>\n",
       "      <th>age</th>\n",
       "      <th>mob</th>\n",
       "      <th>name</th>\n",
       "    </tr>\n",
       "  </thead>\n",
       "  <tbody>\n",
       "    <tr>\n",
       "      <th>0</th>\n",
       "      <td>5d8a5b3f9fa1d0e3a587b43b</td>\n",
       "      <td>23</td>\n",
       "      <td>NaN</td>\n",
       "      <td>abc</td>\n",
       "    </tr>\n",
       "    <tr>\n",
       "      <th>1</th>\n",
       "      <td>5d8a5b419fa1d0e3a587b43c</td>\n",
       "      <td>22</td>\n",
       "      <td>21234.0</td>\n",
       "      <td>abc</td>\n",
       "    </tr>\n",
       "    <tr>\n",
       "      <th>2</th>\n",
       "      <td>5d8a5b419fa1d0e3a587b43e</td>\n",
       "      <td>27</td>\n",
       "      <td>21244.0</td>\n",
       "      <td>abc</td>\n",
       "    </tr>\n",
       "    <tr>\n",
       "      <th>3</th>\n",
       "      <td>5d8a63e29fa1d0e3a587b440</td>\n",
       "      <td>22</td>\n",
       "      <td>21234.0</td>\n",
       "      <td>abc</td>\n",
       "    </tr>\n",
       "    <tr>\n",
       "      <th>4</th>\n",
       "      <td>5d8a63e29fa1d0e3a587b442</td>\n",
       "      <td>27</td>\n",
       "      <td>21244.0</td>\n",
       "      <td>abc</td>\n",
       "    </tr>\n",
       "  </tbody>\n",
       "</table>\n",
       "</div>"
      ],
      "text/plain": [
       "                        _id  age      mob name\n",
       "0  5d8a5b3f9fa1d0e3a587b43b   23      NaN  abc\n",
       "1  5d8a5b419fa1d0e3a587b43c   22  21234.0  abc\n",
       "2  5d8a5b419fa1d0e3a587b43e   27  21244.0  abc\n",
       "3  5d8a63e29fa1d0e3a587b440   22  21234.0  abc\n",
       "4  5d8a63e29fa1d0e3a587b442   27  21244.0  abc"
      ]
     },
     "execution_count": 16,
     "metadata": {},
     "output_type": "execute_result"
    }
   ],
   "source": [
    "pd.DataFrame(j)"
   ]
  },
  {
   "cell_type": "markdown",
   "metadata": {},
   "source": [
    "### Update"
   ]
  },
  {
   "cell_type": "code",
   "execution_count": 17,
   "metadata": {},
   "outputs": [
    {
     "name": "stdout",
     "output_type": "stream",
     "text": [
      "{'_id': ObjectId('5d8a5b3f9fa1d0e3a587b43b'), 'name': 'zzz', 'age': 23}\n",
      "{'_id': ObjectId('5d8a5b419fa1d0e3a587b43c'), 'name': 'abc', 'age': 22, 'mob': 21234}\n",
      "{'_id': ObjectId('5d8a5b419fa1d0e3a587b43d'), 'name': 'dec', 'age': 25, 'mob': 2345}\n",
      "{'_id': ObjectId('5d8a5b419fa1d0e3a587b43e'), 'name': 'abc', 'age': 27, 'mob': 21244}\n",
      "{'_id': ObjectId('5d8a5b419fa1d0e3a587b43f'), 'name': 'dec', 'age': 23, 'mob': 2245}\n",
      "{'_id': ObjectId('5d8a63e29fa1d0e3a587b440'), 'name': 'abc', 'age': 22, 'mob': 21234}\n",
      "{'_id': ObjectId('5d8a63e29fa1d0e3a587b441'), 'name': 'dec', 'age': 25, 'mob': 2345}\n",
      "{'_id': ObjectId('5d8a63e29fa1d0e3a587b442'), 'name': 'abc', 'age': 27, 'mob': 21244}\n",
      "{'_id': ObjectId('5d8a63e29fa1d0e3a587b443'), 'name': 'dec', 'age': 23, 'mob': 2245}\n"
     ]
    }
   ],
   "source": [
    "old_doc = { \"name\": \"abc\" }\n",
    "new_doc = { \"$set\": { \"name\": \"zzz\" } }\n",
    "scol.update_one(old_doc, new_doc)\n",
    "for x in scol.find():\n",
    "    print(x)"
   ]
  },
  {
   "cell_type": "markdown",
   "metadata": {},
   "source": [
    "### update many "
   ]
  },
  {
   "cell_type": "code",
   "execution_count": 18,
   "metadata": {},
   "outputs": [
    {
     "name": "stdout",
     "output_type": "stream",
     "text": [
      "{'_id': ObjectId('5d8a5b3f9fa1d0e3a587b43b'), 'name': 'zzz', 'age': 23}\n",
      "{'_id': ObjectId('5d8a5b419fa1d0e3a587b43c'), 'name': 'abc', 'age': 30, 'mob': 21234}\n",
      "{'_id': ObjectId('5d8a5b419fa1d0e3a587b43d'), 'name': 'dec', 'age': 25, 'mob': 2345}\n",
      "{'_id': ObjectId('5d8a5b419fa1d0e3a587b43e'), 'name': 'abc', 'age': 30, 'mob': 21244}\n",
      "{'_id': ObjectId('5d8a5b419fa1d0e3a587b43f'), 'name': 'dec', 'age': 23, 'mob': 2245}\n",
      "{'_id': ObjectId('5d8a63e29fa1d0e3a587b440'), 'name': 'abc', 'age': 30, 'mob': 21234}\n",
      "{'_id': ObjectId('5d8a63e29fa1d0e3a587b441'), 'name': 'dec', 'age': 25, 'mob': 2345}\n",
      "{'_id': ObjectId('5d8a63e29fa1d0e3a587b442'), 'name': 'abc', 'age': 30, 'mob': 21244}\n",
      "{'_id': ObjectId('5d8a63e29fa1d0e3a587b443'), 'name': 'dec', 'age': 23, 'mob': 2245}\n"
     ]
    }
   ],
   "source": [
    "old_doc = { \"name\": \"abc\" }\n",
    "new_doc = { \"$set\": { \"age\":30 } }\n",
    "scol.update_many(old_doc, new_doc)\n",
    "#print(x.modified_count, \"documents updated.\")\n",
    "for x in scol.find():\n",
    "    print(x)\n"
   ]
  },
  {
   "cell_type": "markdown",
   "metadata": {},
   "source": [
    "### Delete"
   ]
  },
  {
   "cell_type": "code",
   "execution_count": 19,
   "metadata": {},
   "outputs": [
    {
     "data": {
      "text/plain": [
       "<pymongo.results.DeleteResult at 0x20c61921d88>"
      ]
     },
     "execution_count": 19,
     "metadata": {},
     "output_type": "execute_result"
    }
   ],
   "source": [
    "scol.delete_one ({'name':'abc'})"
   ]
  },
  {
   "cell_type": "markdown",
   "metadata": {},
   "source": [
    "### DeleteMany"
   ]
  },
  {
   "cell_type": "code",
   "execution_count": 20,
   "metadata": {},
   "outputs": [],
   "source": [
    "x = scol.delete_many({'name':'abc'})"
   ]
  },
  {
   "cell_type": "markdown",
   "metadata": {},
   "source": [
    "### Delete all Documents in a collection"
   ]
  },
  {
   "cell_type": "code",
   "execution_count": 21,
   "metadata": {},
   "outputs": [],
   "source": [
    " x = scol.delete_many({})\n",
    "      "
   ]
  },
  {
   "cell_type": "markdown",
   "metadata": {},
   "source": [
    "### Delete Collection"
   ]
  },
  {
   "cell_type": "code",
   "execution_count": 22,
   "metadata": {},
   "outputs": [],
   "source": [
    "scol.drop()"
   ]
  },
  {
   "cell_type": "markdown",
   "metadata": {},
   "source": [
    "### Delete Database"
   ]
  },
  {
   "cell_type": "code",
   "execution_count": 23,
   "metadata": {},
   "outputs": [],
   "source": [
    "sample_client.drop_database('sample_db')"
   ]
  }
 ],
 "metadata": {
  "kernelspec": {
   "display_name": "Python 3",
   "language": "python",
   "name": "python3"
  },
  "language_info": {
   "codemirror_mode": {
    "name": "ipython",
    "version": 3
   },
   "file_extension": ".py",
   "mimetype": "text/x-python",
   "name": "python",
   "nbconvert_exporter": "python",
   "pygments_lexer": "ipython3",
   "version": "3.7.3"
  }
 },
 "nbformat": 4,
 "nbformat_minor": 2
}
