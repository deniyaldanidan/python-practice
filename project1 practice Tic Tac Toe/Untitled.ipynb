{
 "cells": [
  {
   "cell_type": "code",
   "execution_count": 2,
   "metadata": {},
   "outputs": [],
   "source": [
    "def board_print(b):\n",
    "    print(f'''\n",
    "    {b[1]}|{b[2]}|{b[3]}\n",
    "    -----\n",
    "    {b[4]}|{b[5]}|{b[6]}\n",
    "    -----\n",
    "    {b[7]}|{b[8]}|{b[9]}''')"
   ]
  },
  {
   "cell_type": "code",
   "execution_count": 3,
   "metadata": {},
   "outputs": [
    {
     "name": "stdout",
     "output_type": "stream",
     "text": [
      "\n",
      "     | | \n",
      "    -----\n",
      "     | | \n",
      "    -----\n",
      "     | | \n"
     ]
    }
   ],
   "source": [
    "list1 = [1,\" \",\" \",\" \",\" \",\" \",\" \",\" \",\" \",\" \"]\n",
    "board_print(list1)"
   ]
  },
  {
   "cell_type": "code",
   "execution_count": 4,
   "metadata": {},
   "outputs": [],
   "source": [
    "import random"
   ]
  },
  {
   "cell_type": "code",
   "execution_count": 5,
   "metadata": {},
   "outputs": [],
   "source": [
    "def chosen_one():\n",
    "    return random.randint(1,2)"
   ]
  },
  {
   "cell_type": "code",
   "execution_count": 9,
   "metadata": {},
   "outputs": [
    {
     "data": {
      "text/plain": [
       "2"
      ]
     },
     "execution_count": 9,
     "metadata": {},
     "output_type": "execute_result"
    }
   ],
   "source": [
    "player_variable = chosen_one()\n",
    "player_variable"
   ]
  },
  {
   "cell_type": "code",
   "execution_count": 10,
   "metadata": {},
   "outputs": [
    {
     "name": "stdout",
     "output_type": "stream",
     "text": [
      "XorO: x\n"
     ]
    }
   ],
   "source": [
    "while True:\n",
    "    xro = input(\"XorO: \")\n",
    "    if xro.lower() == \"x\":\n",
    "        value_tuple = ('X','O')\n",
    "        break\n",
    "    elif xro.lower() == \"o\":\n",
    "        value_tuple = ('O','X')\n",
    "        break\n",
    "    else:\n",
    "        pass"
   ]
  },
  {
   "cell_type": "code",
   "execution_count": 11,
   "metadata": {},
   "outputs": [
    {
     "data": {
      "text/plain": [
       "('X', 'O')"
      ]
     },
     "execution_count": 11,
     "metadata": {},
     "output_type": "execute_result"
    }
   ],
   "source": [
    "value_tuple"
   ]
  },
  {
   "cell_type": "code",
   "execution_count": 12,
   "metadata": {},
   "outputs": [],
   "source": [
    "if player_variable == 1:\n",
    "    player1 = value_tuple[0]\n",
    "    player2 = value_tuple[1]\n",
    "if player_variable == 2:\n",
    "    player2 = value_tuple[0]\n",
    "    player1 = value_tuple[1]"
   ]
  },
  {
   "cell_type": "code",
   "execution_count": 13,
   "metadata": {},
   "outputs": [
    {
     "data": {
      "text/plain": [
       "'O'"
      ]
     },
     "execution_count": 13,
     "metadata": {},
     "output_type": "execute_result"
    }
   ],
   "source": [
    "player1"
   ]
  },
  {
   "cell_type": "code",
   "execution_count": 14,
   "metadata": {},
   "outputs": [
    {
     "data": {
      "text/plain": [
       "'X'"
      ]
     },
     "execution_count": 14,
     "metadata": {},
     "output_type": "execute_result"
    }
   ],
   "source": [
    "player2"
   ]
  },
  {
   "cell_type": "code",
   "execution_count": 15,
   "metadata": {},
   "outputs": [],
   "source": [
    "def player_name():\n",
    "    global player1_name, player2_name\n",
    "    player1_name = input(\"Enter your name Player 1: \")\n",
    "    player2_name = input(\"Enter your name player 2: \")"
   ]
  },
  {
   "cell_type": "code",
   "execution_count": 16,
   "metadata": {},
   "outputs": [
    {
     "name": "stdout",
     "output_type": "stream",
     "text": [
      "Enter your name Player 1: Dani\n",
      "Enter your name player 2: Eve\n"
     ]
    },
    {
     "data": {
      "text/plain": [
       "'Dani'"
      ]
     },
     "execution_count": 16,
     "metadata": {},
     "output_type": "execute_result"
    }
   ],
   "source": [
    "player_name()\n",
    "player1_name"
   ]
  },
  {
   "cell_type": "code",
   "execution_count": 18,
   "metadata": {},
   "outputs": [
    {
     "name": "stdout",
     "output_type": "stream",
     "text": [
      "\n",
      "     | | \n",
      "    -----\n",
      "     | | \n",
      "    -----\n",
      "     | | \n",
      "Enter your position 'X' Eve: 1\n",
      "\n",
      "    X| | \n",
      "    -----\n",
      "     | | \n",
      "    -----\n",
      "     | | \n",
      "Enter your position 'O' Dani: 5\n",
      "\n",
      "    X| | \n",
      "    -----\n",
      "     |O| \n",
      "    -----\n",
      "     | | \n",
      "Enter your position 'X' Eve: 2\n",
      "\n",
      "    X|X| \n",
      "    -----\n",
      "     |O| \n",
      "    -----\n",
      "     | | \n",
      "Enter your position 'O' Dani: 3\n",
      "\n",
      "    X|X|O\n",
      "    -----\n",
      "     |O| \n",
      "    -----\n",
      "     | | \n",
      "Enter your position 'X' Eve: 4\n",
      "\n",
      "    X|X|O\n",
      "    -----\n",
      "    X|O| \n",
      "    -----\n",
      "     | | \n",
      "Enter your position 'O' Dani: 7\n",
      "\n",
      "    X|X|O\n",
      "    -----\n",
      "    X|O| \n",
      "    -----\n",
      "    O| | \n",
      "Dani Wins!\n"
     ]
    }
   ],
   "source": [
    "list1 = [1,\" \",\" \",\" \",\" \",\" \",\" \",\" \",\" \",\" \"]\n",
    "board_print(list1)\n",
    "moves = 0\n",
    "while True:\n",
    "    if player_variable == 1:\n",
    "        while True:\n",
    "            try:\n",
    "                player1turn = int(input(f\"Enter your position '{player1}' {player1_name}: \"))\n",
    "            except ValueError:\n",
    "                print(\"Enter a number\")\n",
    "            else:\n",
    "                if list1[player1turn] == \" \":\n",
    "                    list1[player1turn] = player1\n",
    "                    moves+=1\n",
    "                    board_print(list1)\n",
    "                    break\n",
    "                else:\n",
    "                    print(f\"Sorry the position you entered is already filled with {list1[player1turn]}\")\n",
    "                    pass\n",
    "        if moves>=5:\n",
    "            if (list1[1] == list1[2] == list1[3] == player1) or (list1[1] == list1[4] == list1[7] == player1) or (\n",
    "                list1[2] == list1[5] == list1[8] == player1) or (list1[3] == list1[6] == list1[9] == player1) or (\n",
    "                list1[3] == list1[5] == list1[7] == player1) or (list1[4] == list1[5] == list1[6] == player1) or (\n",
    "                list1[7] == list1[8] == list1[9] == player1) or (list1[1] == list1[5] == list1[9] == player1):\n",
    "                print(f\"{player1_name} Wins!\")\n",
    "                break\n",
    "            elif (list1[1] == list1[2] == list1[3] == player2) or (list1[1] == list1[4] == list1[7] == player2) or (\n",
    "                list1[2] == list1[5] == list1[8] == player2) or (list1[3] == list1[6] == list1[9] == player2) or (\n",
    "                list1[3] == list1[5] == list1[7] == player2) or (list1[4] == list1[5] == list1[6] == player2) or (\n",
    "                list1[7] == list1[8] == list1[9] == player2) or (list1[1] == list1[5] == list1[9] == player2):\n",
    "                print(f\"{player2_name} Wins!\")\n",
    "                break\n",
    "            elif moves == 9:\n",
    "                print(\"Match Draws !\")\n",
    "                break\n",
    "            else:\n",
    "                pass\n",
    "        while True:\n",
    "            player2turn = int(input(f\"Enter your position '{player2}' {player2_name}: \"))\n",
    "            if list1[player2turn] == \" \":\n",
    "                list1[player2turn] = player2\n",
    "                board_print(list1)\n",
    "                moves+=1\n",
    "                break\n",
    "            else:\n",
    "                print(f\"Sorry the position you entered is already filled with {list1[player2turn]}\")\n",
    "                pass\n",
    "        if moves>=5:\n",
    "            if (list1[1] == list1[2] == list1[3] == player1) or (list1[1] == list1[4] == list1[7] == player1) or (\n",
    "                list1[2] == list1[5] == list1[8] == player1) or (list1[3] == list1[6] == list1[9] == player1) or (\n",
    "                list1[3] == list1[5] == list1[7] == player1) or (list1[4] == list1[5] == list1[6] == player1) or (\n",
    "                list1[7] == list1[8] == list1[9] == player1) or (list1[1] == list1[5] == list1[9] == player1):\n",
    "                print(f\"{player1_name} Wins!\")\n",
    "                break\n",
    "            elif (list1[1] == list1[2] == list1[3] == player2) or (list1[1] == list1[4] == list1[7] == player2) or (\n",
    "                list1[2] == list1[5] == list1[8] == player2) or (list1[3] == list1[6] == list1[9] == player2) or (\n",
    "                list1[3] == list1[5] == list1[7] == player2) or (list1[4] == list1[5] == list1[6] == player2) or (\n",
    "                list1[7] == list1[8] == list1[9] == player2) or (list1[1] == list1[5] == list1[9] == player2):\n",
    "                print(f\"{player2_name} Wins!\")\n",
    "                break\n",
    "            elif moves == 9:\n",
    "                print(f\"Better luck next time {player1_name} and {player2_name} Match Draws !\")\n",
    "                break\n",
    "            else:\n",
    "                pass\n",
    "    if player_variable == 2:\n",
    "        while True:\n",
    "            player2turn = int(input(f\"Enter your position '{player2}' {player2_name}: \"))\n",
    "            if list1[player2turn] == \" \":\n",
    "                list1[player2turn] = player2\n",
    "                moves+=1\n",
    "                board_print(list1)\n",
    "                break\n",
    "            else:\n",
    "                print(f\"Sorry the position you entered is already filled with {list1[player2turn]}\")\n",
    "                pass\n",
    "        if moves>=5:\n",
    "            if (list1[1] == list1[2] == list1[3] == player1) or (list1[1] == list1[4] == list1[7] == player1) or (\n",
    "                list1[2] == list1[5] == list1[8] == player1) or (list1[3] == list1[6] == list1[9] == player1) or (\n",
    "                list1[3] == list1[5] == list1[7] == player1) or (list1[4] == list1[5] == list1[6] == player1) or (\n",
    "                list1[7] == list1[8] == list1[9] == player1) or (list1[1] == list1[5] == list1[9] == player1):\n",
    "                print(f\"{player1_name} Wins!\")\n",
    "                break\n",
    "            elif (list1[1] == list1[2] == list1[3] == player2) or (list1[1] == list1[4] == list1[7] == player2) or (\n",
    "                list1[2] == list1[5] == list1[8] == player2) or (list1[3] == list1[6] == list1[9] == player2) or (\n",
    "                list1[3] == list1[5] == list1[7] == player2) or (list1[4] == list1[5] == list1[6] == player2) or (\n",
    "                list1[7] == list1[8] == list1[9] == player2) or (list1[1] == list1[5] == list1[9] == player2):\n",
    "                print(f\"{player2_name} Wins!\")\n",
    "                break\n",
    "            elif moves == 9:\n",
    "                print(\"Match Draws !\")\n",
    "                break\n",
    "            else:\n",
    "                pass\n",
    "        while True:\n",
    "            player1turn = int(input(f\"Enter your position '{player1}' {player1_name}: \"))\n",
    "            if list1[player1turn] == \" \":\n",
    "                list1[player1turn] = player1\n",
    "                board_print(list1)\n",
    "                moves+=1\n",
    "                break\n",
    "            else:\n",
    "                print(f\"Sorry the position you entered is already filled with {list1[player1turn]}\")\n",
    "                pass\n",
    "        if moves>=5:\n",
    "            if (list1[1] == list1[2] == list1[3] == player1) or (list1[1] == list1[4] == list1[7] == player1) or (\n",
    "                list1[2] == list1[5] == list1[8] == player1) or (list1[3] == list1[6] == list1[9] == player1) or (\n",
    "                list1[3] == list1[5] == list1[7] == player1) or (list1[4] == list1[5] == list1[6] == player1) or (\n",
    "                list1[7] == list1[8] == list1[9] == player1) or (list1[1] == list1[5] == list1[9] == player1):\n",
    "                print(f\"{player1_name} Wins!\")\n",
    "                break\n",
    "            elif (list1[1] == list1[2] == list1[3] == player2) or (list1[1] == list1[4] == list1[7] == player2) or (\n",
    "                list1[2] == list1[5] == list1[8] == player2) or (list1[3] == list1[6] == list1[9] == player2) or (\n",
    "                list1[3] == list1[5] == list1[7] == player2) or (list1[4] == list1[5] == list1[6] == player2) or (\n",
    "                list1[7] == list1[8] == list1[9] == player2) or (list1[1] == list1[5] == list1[9] == player2):\n",
    "                print(f\"{player2_name} Wins!\")\n",
    "                break\n",
    "            elif moves == 9:\n",
    "                print(f\"Better luck next time {player1_name} and {player2_name} Match Draws !\")\n",
    "                break\n",
    "            else:\n",
    "                pass\n",
    "        "
   ]
  },
  {
   "cell_type": "code",
   "execution_count": 19,
   "metadata": {},
   "outputs": [
    {
     "data": {
      "text/plain": [
       "6"
      ]
     },
     "execution_count": 19,
     "metadata": {},
     "output_type": "execute_result"
    }
   ],
   "source": [
    "moves"
   ]
  },
  {
   "cell_type": "code",
   "execution_count": 53,
   "metadata": {},
   "outputs": [
    {
     "name": "stdout",
     "output_type": "stream",
     "text": [
      "\n",
      "     | | \n",
      "    -----\n",
      "     | | \n",
      "    -----\n",
      "     | | \n"
     ]
    }
   ],
   "source": [
    "list1 = [1,\" \",\" \",\" \",\" \",\" \",\" \",\" \",\" \",\" \"]\n",
    "board_print(list1)"
   ]
  },
  {
   "cell_type": "code",
   "execution_count": null,
   "metadata": {},
   "outputs": [],
   "source": []
  },
  {
   "cell_type": "code",
   "execution_count": null,
   "metadata": {},
   "outputs": [],
   "source": []
  }
 ],
 "metadata": {
  "kernelspec": {
   "display_name": "Python 3",
   "language": "python",
   "name": "python3"
  },
  "language_info": {
   "codemirror_mode": {
    "name": "ipython",
    "version": 3
   },
   "file_extension": ".py",
   "mimetype": "text/x-python",
   "name": "python",
   "nbconvert_exporter": "python",
   "pygments_lexer": "ipython3",
   "version": "3.7.3"
  }
 },
 "nbformat": 4,
 "nbformat_minor": 2
}
