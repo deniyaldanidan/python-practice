{
 "cells": [
  {
   "cell_type": "code",
   "execution_count": 214,
   "metadata": {},
   "outputs": [],
   "source": [
    "import random"
   ]
  },
  {
   "cell_type": "code",
   "execution_count": 215,
   "metadata": {},
   "outputs": [],
   "source": [
    "suits = ['Hearts', 'Diamonds', 'Spades', 'Clubs']\n",
    "ranks = ['Two', 'Three', 'Four', 'Five', 'Six', 'Seven', 'Eight', 'Nine', 'Ten', 'Jack', 'Queen', 'King', 'Ace']\n",
    "values = {'Two':2, 'Three':3, 'Four':4, 'Five':5, 'Six':6, 'Seven':7, 'Eight':8, 'Nine':9, 'Ten':10, 'Jack':10,\n",
    "         'Queen':10, 'King':10, 'Ace':1}"
   ]
  },
  {
   "cell_type": "code",
   "execution_count": 216,
   "metadata": {},
   "outputs": [],
   "source": [
    "def deck_of_card():\n",
    "    deck =[]\n",
    "    for suit in suits:\n",
    "        for rank in ranks:\n",
    "            deck.append([suit,rank])\n",
    "    \n",
    "    random.shuffle(deck)\n",
    "    return deck"
   ]
  },
  {
   "cell_type": "code",
   "execution_count": 217,
   "metadata": {},
   "outputs": [],
   "source": [
    "deck = deck_of_card()"
   ]
  },
  {
   "cell_type": "code",
   "execution_count": 218,
   "metadata": {},
   "outputs": [
    {
     "data": {
      "text/plain": [
       "'Six of Hearts'"
      ]
     },
     "execution_count": 218,
     "metadata": {},
     "output_type": "execute_result"
    }
   ],
   "source": [
    "\" of \".join(deck[2][::-1])"
   ]
  },
  {
   "cell_type": "code",
   "execution_count": 219,
   "metadata": {},
   "outputs": [],
   "source": [
    "dealer_dummy_deck = []\n",
    "dealer_real_deck = []\n",
    "player_dummy_deck = []\n",
    "player_real_deck = []\n",
    "player_score= 0\n",
    "dealer_score = 0\n",
    "win_or_lose = \"\""
   ]
  },
  {
   "cell_type": "code",
   "execution_count": 220,
   "metadata": {},
   "outputs": [],
   "source": [
    "countz =  0\n",
    "dealer_dummy_deck.append(deck[countz])\n",
    "dealer_real_deck.append(values[deck[countz][1]])\n",
    "dealer_score+=values[deck[countz][1]]\n",
    "countz+=1\n",
    "dealer_dummy_deck.append(deck[countz])\n",
    "dealer_real_deck.append(values[deck[countz][1]])\n",
    "dealer_score+=values[deck[countz][1]]\n",
    "countz+=1\n",
    "player_dummy_deck.append(deck[countz])\n",
    "player_real_deck.append(values[deck[countz][1]])\n",
    "player_score+=values[deck[countz][1]]\n",
    "countz+=1\n",
    "player_dummy_deck.append(deck[countz])\n",
    "player_real_deck.append(values[deck[countz][1]])\n",
    "player_score+=values[deck[countz][1]]\n",
    "countz+=1"
   ]
  },
  {
   "cell_type": "code",
   "execution_count": 221,
   "metadata": {},
   "outputs": [
    {
     "name": "stdout",
     "output_type": "stream",
     "text": [
      "For Dealer ===> 'Hidden card' ['Diamonds', 'Queen']\n",
      "For Player ===> [['Hearts', 'Six'], ['Hearts', 'Ten']] Sum= 16\n"
     ]
    }
   ],
   "source": [
    "print(\"For Dealer ===> 'Hidden card'\", dealer_dummy_deck[1] )\n",
    "print(\"For Player ===>\" ,player_dummy_deck[0:], \"Sum=\", player_score)"
   ]
  },
  {
   "cell_type": "code",
   "execution_count": 222,
   "metadata": {},
   "outputs": [
    {
     "name": "stdout",
     "output_type": "stream",
     "text": [
      "H or S: h\n",
      "For Dealer ===> 'Hidden card' ['Diamonds', 'Queen']\n",
      "For Player ===> [['Hearts', 'Six'], ['Hearts', 'Ten'], ['Hearts', 'Two']] Sum= 18\n",
      "H or S: h\n",
      "For Dealer ===> 'Hidden card' ['Diamonds', 'Queen']\n",
      "For Player ===> [['Hearts', 'Six'], ['Hearts', 'Ten'], ['Hearts', 'Two'], ['Diamonds', 'Ace']] Sum= 19\n",
      "H or S: h\n",
      "For Dealer ===> 'Hidden card' ['Diamonds', 'Queen']\n",
      "For Player ===> [['Hearts', 'Six'], ['Hearts', 'Ten'], ['Hearts', 'Two'], ['Diamonds', 'Ace'], ['Spades', 'Seven']] Sum= 26\n",
      "Hence there is an ACE so new player score =  15\n",
      "H or S: h\n",
      "For Dealer ===> 'Hidden card' ['Diamonds', 'Queen']\n",
      "For Player ===> [['Hearts', 'Six'], ['Hearts', 'Ten'], ['Hearts', 'Two'], ['Diamonds', 'Ace'], ['Spades', 'Seven'], ['Diamonds', 'Four']] Sum= 19\n",
      "H or S: h\n",
      "For Dealer ===> 'Hidden card' ['Diamonds', 'Queen']\n",
      "For Player ===> [['Hearts', 'Six'], ['Hearts', 'Ten'], ['Hearts', 'Two'], ['Diamonds', 'Ace'], ['Spades', 'Seven'], ['Diamonds', 'Four'], ['Clubs', 'Nine']] Sum= 28\n",
      "BUST\n"
     ]
    }
   ],
   "source": [
    "hit_or_stand = input(\"H or S: \")\n",
    "if hit_or_stand.lower()==\"h\":\n",
    "    while True:\n",
    "        player_dummy_deck.append(deck[countz])\n",
    "        player_real_deck.append(values[deck[countz][1]])\n",
    "        player_score+=values[deck[countz][1]]\n",
    "        print(\"For Dealer ===> 'Hidden card'\", dealer_dummy_deck[1] )\n",
    "        print(\"For Player ===>\" ,player_dummy_deck[0:], \"Sum=\", player_score)\n",
    "        countz+=1\n",
    "        if 1 in player_real_deck:\n",
    "            if player_score==11:\n",
    "                win_or_lose=\"WIN\"\n",
    "                print(win_or_lose)\n",
    "                break\n",
    "            elif player_score>21:\n",
    "                player_score=player_score-11\n",
    "                print(\"Hence there is an ACE so new player score = \", player_score)\n",
    "                del player_real_deck[player_real_deck.index(1)]\n",
    "        if player_score==21:\n",
    "            win_or_lose=\"WIN\"\n",
    "            print(win_or_lose)\n",
    "            break\n",
    "        if player_score>21:\n",
    "            win_or_lose = \"BUST\"\n",
    "            print(win_or_lose)\n",
    "            break\n",
    "        hit_stand_loop = input(\"H or S: \")\n",
    "        if hit_stand_loop.lower()==\"h\":\n",
    "            pass\n",
    "        elif hit_stand_loop.lower()==\"s\":\n",
    "            break"
   ]
  },
  {
   "cell_type": "code",
   "execution_count": 223,
   "metadata": {},
   "outputs": [
    {
     "data": {
      "text/plain": [
       "([['Hearts', 'Six'],\n",
       "  ['Hearts', 'Ten'],\n",
       "  ['Hearts', 'Two'],\n",
       "  ['Diamonds', 'Ace'],\n",
       "  ['Spades', 'Seven'],\n",
       "  ['Diamonds', 'Four'],\n",
       "  ['Clubs', 'Nine']],\n",
       " 'BUST',\n",
       " [6, 10, 2, 7, 4, 9])"
      ]
     },
     "execution_count": 223,
     "metadata": {},
     "output_type": "execute_result"
    }
   ],
   "source": [
    "player_dummy_deck,win_or_lose,player_real_deck"
   ]
  },
  {
   "cell_type": "code",
   "execution_count": 224,
   "metadata": {},
   "outputs": [],
   "source": [
    "if win_or_lose!=\"\":\n",
    "    pass\n",
    "else:\n",
    "    while True:\n",
    "        dealer_dummy_deck.append(deck[countz])\n",
    "        dealer_real_deck.append(values[deck[countz][1]])\n",
    "        dealer_score+=values[deck[countz][1]]\n",
    "        countz+=1\n",
    "        if 1 in dealer_real_deck:\n",
    "            if dealer_score==11:\n",
    "                dealer_score=21\n",
    "                break\n",
    "            elif dealer_score>21:\n",
    "                dealer_score=dealer_score-11\n",
    "                del dealer_real_deck[dealer_real_deck.index(1)]\n",
    "        if dealer_score==19:\n",
    "            break\n",
    "        elif dealer_score>19:\n",
    "            dealer_score= dealer_score - values[dealer_dummy_deck[-1][1]]\n",
    "            del dealer_dummy_deck[-1]\n",
    "            del dealer_real_deck[-1]\n",
    "            break\n",
    "        else:\n",
    "            pass"
   ]
  },
  {
   "cell_type": "code",
   "execution_count": 225,
   "metadata": {},
   "outputs": [
    {
     "data": {
      "text/plain": [
       "([['Spades', 'Three'], ['Diamonds', 'Queen']], 13)"
      ]
     },
     "execution_count": 225,
     "metadata": {},
     "output_type": "execute_result"
    }
   ],
   "source": [
    "dealer_dummy_deck,dealer_score"
   ]
  },
  {
   "cell_type": "code",
   "execution_count": 226,
   "metadata": {},
   "outputs": [],
   "source": [
    "if player_score<21:\n",
    "    if player_score<dealer_score:\n",
    "        win_or_lose = \"LOSE\"\n",
    "        print(\"For Dealer ===> \", dealer_dummy_deck[0:], \"Sum= \", dealer_score )\n",
    "        print(\"For Player ===>\", player_dummy_deck[0:], \"Sum = \", player_score)\n",
    "        print(win_or_lose)\n",
    "    elif player_score>dealer_score:\n",
    "        win_or_lose = \"WIN\"\n",
    "        print(\"For Dealer ===> \", dealer_dummy_deck[0:], \"Sum= \", dealer_score )\n",
    "        print(\"For Player ===>\", player_dummy_deck[0:], \"Sum= \", player_score)\n",
    "        print(win_or_lose)\n",
    "    elif player_score==dealer_score:\n",
    "        win_or_lose = \"DRAW\"\n",
    "        print(\"For Dealer ===> \", dealer_dummy_deck[0:], \"Sum= \", dealer_score )\n",
    "        print(\"For Player ===>\", player_dummy_deck[0:], \"Sum= \", player_score)\n",
    "        print(win_or_lose)"
   ]
  },
  {
   "cell_type": "code",
   "execution_count": 227,
   "metadata": {},
   "outputs": [
    {
     "data": {
      "text/plain": [
       "'BUST'"
      ]
     },
     "execution_count": 227,
     "metadata": {},
     "output_type": "execute_result"
    }
   ],
   "source": [
    "win_or_lose"
   ]
  },
  {
   "cell_type": "code",
   "execution_count": 228,
   "metadata": {},
   "outputs": [],
   "source": [
    "bet = 30"
   ]
  },
  {
   "cell_type": "code",
   "execution_count": 229,
   "metadata": {},
   "outputs": [],
   "source": [
    "class player_id:\n",
    "    def __init__(self, name,amount):\n",
    "        self.name = name\n",
    "        self.amount = int(amount)\n",
    "    def win_lose_state(self):\n",
    "        if win_or_lose.lower()==\"win\":\n",
    "            self.amount = self.amount+bet\n",
    "        elif win_or_lose.lower() == \"lose\" or win_or_lose.lower() == \"bust\":\n",
    "            self.amount = self.amount-bet"
   ]
  },
  {
   "cell_type": "code",
   "execution_count": 230,
   "metadata": {},
   "outputs": [],
   "source": [
    "daniy = player_id(\"Dani\", 200) "
   ]
  },
  {
   "cell_type": "code",
   "execution_count": 231,
   "metadata": {},
   "outputs": [],
   "source": [
    "daniy.win_lose_state()"
   ]
  },
  {
   "cell_type": "code",
   "execution_count": 232,
   "metadata": {},
   "outputs": [
    {
     "data": {
      "text/plain": [
       "170"
      ]
     },
     "execution_count": 232,
     "metadata": {},
     "output_type": "execute_result"
    }
   ],
   "source": [
    "daniy.amount"
   ]
  },
  {
   "cell_type": "code",
   "execution_count": null,
   "metadata": {},
   "outputs": [],
   "source": []
  }
 ],
 "metadata": {
  "kernelspec": {
   "display_name": "Python 3",
   "language": "python",
   "name": "python3"
  },
  "language_info": {
   "codemirror_mode": {
    "name": "ipython",
    "version": 3
   },
   "file_extension": ".py",
   "mimetype": "text/x-python",
   "name": "python",
   "nbconvert_exporter": "python",
   "pygments_lexer": "ipython3",
   "version": "3.7.3"
  }
 },
 "nbformat": 4,
 "nbformat_minor": 2
}
